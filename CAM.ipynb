{
 "cells": [
  {
   "cell_type": "code",
   "execution_count": null,
   "metadata": {},
   "outputs": [],
   "source": [
    "import torch \n",
    "from torch import nn,optim\n",
    "from torch.nn import functional as F\n",
    "from torchvision import datasets,models,transforms\n",
    "import matplotlib.pyplot as plt\n",
    "from tqdm.notebook import tqdm"
   ]
  },
  {
   "cell_type": "code",
   "execution_count": null,
   "metadata": {},
   "outputs": [],
   "source": [
    "train=datasets.STL10('stl','train',transform=transforms.ToTensor())\n",
    "train_loader=torch.utils.data.DataLoader(train, batch_size=256, shuffle=True, num_workers=8,pin_memory=False)"
   ]
  },
  {
   "cell_type": "code",
   "execution_count": null,
   "metadata": {},
   "outputs": [],
   "source": [
    "class Model(nn.Module):\n",
    "    def __init__(self):\n",
    "        super().__init__()\n",
    "        self.conv=nn.Sequential(*list(models.resnet18(pretrained=False).children())[:-2])\n",
    "        self.avg_pool=nn.AdaptiveAvgPool2d((1,1))\n",
    "        self.fc=nn.Linear(512,10)\n",
    "        \n",
    "    def forward(self,x):\n",
    "        x_conv=self.conv(x)\n",
    "        x=self.avg_pool(x_conv)\n",
    "        x=torch.flatten(x, 1)\n",
    "        x=self.fc(x)\n",
    "        return x\n",
    "    \n",
    "    def get_cam(self,x):\n",
    "        #x must be 1 C W H\n",
    "        self.eval()\n",
    "        maps=self.conv(x)\n",
    "        cl=self.forward(x).max(1)[1]\n",
    "        w=self.fc.weight[cl]\n",
    "        cam=(w*(maps.permute(0,2,3,1))).sum(3)\n",
    "        cam=F.interpolate(cam.unsqueeze(0),x.shape[2:],mode='bilinear').squeeze().unsqueeze(0)\n",
    "        return cam.detach().cpu().numpy()"
   ]
  },
  {
   "cell_type": "code",
   "execution_count": null,
   "metadata": {},
   "outputs": [],
   "source": [
    "def test_cam(model):\n",
    "    plt.figure(figsize=(20,8))\n",
    "    for i in range(10):\n",
    "        image=train[i][0]\n",
    "        cam=model.get_cam(train[i][0].unsqueeze(0).cuda())\n",
    "        plt.subplot(2,5,i+1)\n",
    "        plt.imshow(image.permute(1,2,0))\n",
    "        plt.imshow(cam[0],cmap='jet',alpha=0.3)\n",
    "        plt.axis('off')\n",
    "    plt.show()\n"
   ]
  },
  {
   "cell_type": "code",
   "execution_count": null,
   "metadata": {},
   "outputs": [],
   "source": [
    "model=Model()\n",
    "model=model.cuda()"
   ]
  },
  {
   "cell_type": "code",
   "execution_count": null,
   "metadata": {},
   "outputs": [],
   "source": [
    "criterion = nn.CrossEntropyLoss()\n",
    "optimizer = optim.Adadelta(model.parameters())"
   ]
  },
  {
   "cell_type": "code",
   "execution_count": null,
   "metadata": {},
   "outputs": [],
   "source": [
    "for epoch in range(20):  \n",
    "    \n",
    "    model.train()\n",
    "    running_loss = 0.0\n",
    "    correct,tot=0.0,0.0\n",
    "    loop = tqdm(train_loader)\n",
    "    for i, data in enumerate(loop):\n",
    "        \n",
    "        inputs, labels = data\n",
    "        inputs, labels = inputs.cuda(),labels.cuda()\n",
    "        \n",
    "        optimizer.zero_grad()\n",
    "\n",
    "        outputs = model(inputs)\n",
    "        loss = criterion(outputs, labels)\n",
    "        loss.backward()\n",
    "        optimizer.step()\n",
    "\n",
    "        running_loss += loss.item()\n",
    "        \n",
    "        cl=outputs.max(1)[1]\n",
    "        correct+=(cl==labels).sum()\n",
    "        tot+=outputs.shape[0]\n",
    "\n",
    "        loop.set_description(f'acc:{correct/tot}')\n",
    "        \n",
    "        if i%200==0:\n",
    "            print(running_loss/(inputs.shape[0]*(i+1)))\n",
    "\n",
    "    print(f'epoch: {epoch}')\n",
    "    test_cam(model)\n"
   ]
  },
  {
   "cell_type": "code",
   "execution_count": null,
   "metadata": {},
   "outputs": [],
   "source": []
  },
  {
   "cell_type": "code",
   "execution_count": null,
   "metadata": {},
   "outputs": [],
   "source": []
  }
 ],
 "metadata": {
  "environment": {
   "name": "pytorch-gpu.1-4.m46",
   "type": "gcloud",
   "uri": "gcr.io/deeplearning-platform-release/pytorch-gpu.1-4:m46"
  },
  "kernelspec": {
   "display_name": "Python 3",
   "language": "python",
   "name": "python3"
  },
  "language_info": {
   "codemirror_mode": {
    "name": "ipython",
    "version": 3
   },
   "file_extension": ".py",
   "mimetype": "text/x-python",
   "name": "python",
   "nbconvert_exporter": "python",
   "pygments_lexer": "ipython3",
   "version": "3.7.6"
  }
 },
 "nbformat": 4,
 "nbformat_minor": 4
}
